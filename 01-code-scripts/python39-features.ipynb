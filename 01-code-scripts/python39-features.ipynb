{
 "cells": [
  {
   "cell_type": "markdown",
   "metadata": {},
   "source": [
    "# Python 3.9 Features\n",
    "\n",
    "This Notebook demonstrates new features in the Python 3.9 release (October 2020).\n",
    "\n",
    "References:\n",
    "\n",
    "* [What’s New In Python 3.9](https://docs.python.org/3/whatsnew/3.9.html)\n",
    "* [Python 3.9: Cool New Features for You to Try](https://realpython.com/python39-new-features/)"
   ]
  },
  {
   "cell_type": "markdown",
   "metadata": {},
   "source": [
    "## PEP 584: Union Operators for Dictionaries"
   ]
  },
  {
   "cell_type": "code",
   "execution_count": null,
   "metadata": {},
   "outputs": [],
   "source": [
    "# Merge dictionaries\n",
    "dictionary_1 = {'a': 1, 'b': 2}\n",
    "dictionary_2 = {'c': 3, 'd': 4}\n",
    "\n",
    "merged_dictionary = dictionary_1 | dictionary_2\n",
    "merged_dictionary"
   ]
  },
  {
   "cell_type": "code",
   "execution_count": null,
   "metadata": {},
   "outputs": [],
   "source": [
    "# Update dictionary\n",
    "dictionary_1 = {'a': 1, 'b': 2}\n",
    "dictionary_2 = {'c': 3, 'd': 4}\n",
    "\n",
    "dictionary_1 |= dictionary_2\n",
    "dictionary_1"
   ]
  },
  {
   "cell_type": "code",
   "execution_count": null,
   "metadata": {},
   "outputs": [],
   "source": [
    "# Update dictionary - shared key (if shared key, the key-value pair \n",
    "#  from the second dictionary is kept)\n",
    "dictionary_1 = {'a': 1, 'b': 2}\n",
    "dictionary_2 = {'c': 3, 'b': 4}\n",
    "\n",
    "dictionary_1 |= dictionary_2\n",
    "dictionary_1"
   ]
  },
  {
   "cell_type": "code",
   "execution_count": null,
   "metadata": {},
   "outputs": [],
   "source": [
    "# Update dictionary - iterable\n",
    "dictionary = {'a': 1, 'b': 2}\n",
    "iterable = ((num, num**2) for num in range(1,5))\n",
    "\n",
    "dictionary |= iterable\n",
    "dictionary"
   ]
  },
  {
   "cell_type": "markdown",
   "metadata": {},
   "source": [
    "## PEP 585: Type Hinting for Generics "
   ]
  },
  {
   "cell_type": "code",
   "execution_count": null,
   "metadata": {},
   "outputs": [],
   "source": [
    "# Type hinting for generic types\n",
    "def print_list_contents(contents: list[int]) -> None:\n",
    "    for item in contents:\n",
    "        print(item)\n",
    "\n",
    "print_list_contents([1, 2, 3, 4, 5])"
   ]
  },
  {
   "cell_type": "code",
   "execution_count": null,
   "metadata": {},
   "outputs": [],
   "source": [
    "# Type hinting for generic types\n",
    "test_list: list[int] = [num**2 for num in range(5, 10)]\n",
    "test_list"
   ]
  },
  {
   "cell_type": "code",
   "execution_count": null,
   "metadata": {},
   "outputs": [],
   "source": [
    "# Type hinting for generic types\n",
    "def square_int(number: int) -> int:\n",
    "    return number**2\n",
    "\n",
    "help(square_int)\n",
    "square_int(5)"
   ]
  },
  {
   "cell_type": "markdown",
   "metadata": {},
   "source": [
    "## PEP 593: Function Variable Annotations"
   ]
  },
  {
   "cell_type": "code",
   "execution_count": null,
   "metadata": {},
   "outputs": [],
   "source": [
    "# Type annotations\n",
    "from typing import Annotated\n",
    "def convert_feet_to_meters(\n",
    "    distance: Annotated[float, \"distance in feet\"]\n",
    "):\n",
    "    return distance / 3.281\n",
    "\n",
    "convert_feet_to_meters(10)"
   ]
  },
  {
   "cell_type": "code",
   "execution_count": null,
   "metadata": {},
   "outputs": [],
   "source": [
    "# Type annotations, more concise functions \n",
    "from typing import Annotated\n",
    "Feet = Annotated[float, \"distance in feet\"]\n",
    "def convert_feet_to_meters(distance: Feet):\n",
    "    return distance / 3.281\n",
    "\n",
    "convert_feet_to_meters(10)"
   ]
  },
  {
   "cell_type": "code",
   "execution_count": null,
   "metadata": {},
   "outputs": [],
   "source": [
    "# Get annotation metadata\n",
    "convert_feet_to_meters.__annotations__"
   ]
  },
  {
   "cell_type": "code",
   "execution_count": null,
   "metadata": {},
   "outputs": [],
   "source": [
    "# Get type hints, defaults\n",
    "from typing import get_type_hints\n",
    "get_type_hints(convert_feet_to_meters)"
   ]
  },
  {
   "cell_type": "code",
   "execution_count": null,
   "metadata": {},
   "outputs": [],
   "source": [
    "# Get type hints, include extras\n",
    "get_type_hints(convert_feet_to_meters, include_extras=True)"
   ]
  },
  {
   "cell_type": "markdown",
   "metadata": {},
   "source": [
    "## PEP 615: `zoneinfo` Module"
   ]
  },
  {
   "cell_type": "code",
   "execution_count": null,
   "metadata": {},
   "outputs": [],
   "source": [
    "# New module zoneinfo and IANA timezones in DateTime\n",
    "from zoneinfo import ZoneInfo\n",
    "from datetime import datetime\n",
    "\n",
    "time = datetime(2020, 10, 31, 3, 55, tzinfo=ZoneInfo('America/Denver'))\n",
    "time"
   ]
  },
  {
   "cell_type": "code",
   "execution_count": null,
   "metadata": {},
   "outputs": [],
   "source": [
    "# Get timezone name\n",
    "time.tzname()"
   ]
  },
  {
   "cell_type": "code",
   "execution_count": null,
   "metadata": {},
   "outputs": [],
   "source": [
    "# Explore time zone\n",
    "ZoneInfo('America/Denver')"
   ]
  },
  {
   "cell_type": "markdown",
   "metadata": {},
   "source": [
    "## PEP 616: String Methods for Suffixes and Prefixes"
   ]
  },
  {
   "cell_type": "code",
   "execution_count": null,
   "metadata": {},
   "outputs": [],
   "source": [
    "# Remove string prefix\n",
    "mountain = 'Mount Mansfied'\n",
    "mountain.removeprefix('Mount ')"
   ]
  },
  {
   "cell_type": "code",
   "execution_count": null,
   "metadata": {},
   "outputs": [],
   "source": [
    "# Remove string suffix\n",
    "mountain = 'Mount Mansfield'\n",
    "mountain.removesuffix(' Mansfield')"
   ]
  },
  {
   "cell_type": "code",
   "execution_count": null,
   "metadata": {},
   "outputs": [],
   "source": [
    "# Remove string prefix\n",
    "mountains = ['Mount Mansfield', 'Mount Elbert', 'Mount Washington']\n",
    "mountains_abbreviated = [\n",
    "    mountain.removeprefix('Mount ') \n",
    "    for mountain in mountains\n",
    "]\n",
    "mountains_abbreviated"
   ]
  },
  {
   "cell_type": "markdown",
   "metadata": {},
   "source": [
    "## Improved Module: `math`"
   ]
  },
  {
   "cell_type": "code",
   "execution_count": null,
   "metadata": {},
   "outputs": [],
   "source": [
    "# Greatest common divisor for > 2 numbers\n",
    "import math\n",
    "math.gcd(100, 200, 300, 500)"
   ]
  },
  {
   "cell_type": "code",
   "execution_count": null,
   "metadata": {},
   "outputs": [],
   "source": [
    "# Least common multiple\n",
    "math.lcm(100, 200, 300, 500)"
   ]
  },
  {
   "cell_type": "markdown",
   "metadata": {},
   "source": [
    "## Improved Module: `http`"
   ]
  },
  {
   "cell_type": "code",
   "execution_count": null,
   "metadata": {},
   "outputs": [],
   "source": [
    "# HTTP status codes\n",
    "from http import HTTPStatus\n",
    "print(HTTPStatus.EARLY_HINTS.value)\n",
    "print(HTTPStatus(103).phrase)"
   ]
  },
  {
   "cell_type": "code",
   "execution_count": null,
   "metadata": {},
   "outputs": [],
   "source": [
    "from http import HTTPStatus\n",
    "print(HTTPStatus.TOO_EARLY.value)\n",
    "print(HTTPStatus(425).phrase)"
   ]
  }
 ],
 "metadata": {
  "kernelspec": {
   "display_name": "Python 3",
   "language": "python",
   "name": "python3"
  },
  "language_info": {
   "codemirror_mode": {
    "name": "ipython",
    "version": 3
   },
   "file_extension": ".py",
   "mimetype": "text/x-python",
   "name": "python",
   "nbconvert_exporter": "python",
   "pygments_lexer": "ipython3",
   "version": "3.9.0"
  }
 },
 "nbformat": 4,
 "nbformat_minor": 4
}

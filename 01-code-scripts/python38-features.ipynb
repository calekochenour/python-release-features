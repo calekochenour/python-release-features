{
 "cells": [
  {
   "cell_type": "markdown",
   "metadata": {},
   "source": [
    "# Python 3.8 Features\n",
    "\n",
    "This Notebook demonstrates new features in the Python 3.8 release (October 2019).\n",
    "\n",
    "References:\n",
    "\n",
    "* [What’s New In Python 3.8](https://docs.python.org/3/whatsnew/3.8.html)\n",
    "* [Cool New Features in Python 3.8](https://realpython.com/python38-new-features/)"
   ]
  },
  {
   "cell_type": "markdown",
   "metadata": {},
   "source": [
    "## PEP 570: Positional-Only Parameters"
   ]
  },
  {
   "cell_type": "code",
   "execution_count": null,
   "metadata": {},
   "outputs": [],
   "source": [
    "# Positional and keyword arguments\n",
    "def mountain_info(mountain_name, /, elevation_feet, *, trail_name):\n",
    "    \"\"\"\n",
    "    All parameters before '/' are positional-only.\n",
    "    All parameters after '/' and before '*' are either positional or keyword.\n",
    "    All parameters after '*' are keyword only.\n",
    "    \"\"\"\n",
    "    print((f\"I am going to hike the {trail_name} trail on {mountain_name} \"\n",
    "           f\"so that I can reach an elevation of {elevation_feet} feet.\"))"
   ]
  },
  {
   "cell_type": "code",
   "execution_count": null,
   "metadata": {},
   "outputs": [],
   "source": [
    "# No error\n",
    "mountain_info(\n",
    "    \"Pikes Peak\", \n",
    "    elevation_feet='14,115', \n",
    "    trail_name='Barr'\n",
    ")"
   ]
  },
  {
   "cell_type": "code",
   "execution_count": null,
   "metadata": {},
   "outputs": [],
   "source": [
    "# Error due to positional-only parameter\n",
    "try:\n",
    "    mountain_info(\n",
    "        mountain_name=\"Pikes Peak\", \n",
    "        elevation_feet='14,115', \n",
    "        trail_name='Barr'\n",
    "    )\n",
    "except TypeError as error:\n",
    "    print(f\"ERROR: {error}\")"
   ]
  },
  {
   "cell_type": "code",
   "execution_count": null,
   "metadata": {},
   "outputs": [],
   "source": [
    "# Error due to keyword-only parameter\n",
    "try:\n",
    "    mountain_info(\"Pikes Peak\", '14,115', 'Barr')\n",
    "except TypeError as error:\n",
    "    print(f\"ERROR: {error}\")"
   ]
  },
  {
   "cell_type": "markdown",
   "metadata": {},
   "source": [
    "## PEP 572: Assignment Expressions"
   ]
  },
  {
   "cell_type": "code",
   "execution_count": null,
   "metadata": {},
   "outputs": [],
   "source": [
    "# Assign and print a variable in the same line\n",
    "print(mountain := 'Mansfield')"
   ]
  },
  {
   "cell_type": "code",
   "execution_count": null,
   "metadata": {},
   "outputs": [],
   "source": [
    "# Reduce the number of times repeating syntax in list comprehension\n",
    "numbers = [8, 9, 10, 11, 12]\n",
    "squares_greater_than_100 = [\n",
    "    square \n",
    "    for number in numbers \n",
    "    if (square := number**2) > 100\n",
    "]\n",
    "squares_greater_than_100"
   ]
  },
  {
   "cell_type": "code",
   "execution_count": null,
   "metadata": {},
   "outputs": [],
   "source": [
    "# Reduce the number of times repeating syntax in list comprehension\n",
    "mountains = ['Mount Mansfield', 'Mount Elbert', 'Mount Washington']\n",
    "if (num_mountains := len(mountains)) < 4:\n",
    "    print(f\"Identified {num_mountains} mountains. Add more.\")"
   ]
  },
  {
   "cell_type": "markdown",
   "metadata": {},
   "source": [
    "## Debugging: F-Strings"
   ]
  },
  {
   "cell_type": "code",
   "execution_count": null,
   "metadata": {},
   "outputs": [],
   "source": [
    "# Print variable name and value\n",
    "elevation = 4393\n",
    "f\"{elevation=}\""
   ]
  },
  {
   "cell_type": "code",
   "execution_count": null,
   "metadata": {},
   "outputs": [],
   "source": [
    "# Print variable name and value - with spaces\n",
    "elevation = 4393\n",
    "f\"{elevation = }\""
   ]
  },
  {
   "cell_type": "code",
   "execution_count": null,
   "metadata": {},
   "outputs": [],
   "source": [
    "# Print variable name and value - with additional formatting\n",
    "elevation = 4393\n",
    "f\"{elevation = :.2f}\""
   ]
  },
  {
   "cell_type": "code",
   "execution_count": null,
   "metadata": {},
   "outputs": [],
   "source": [
    "# Print variable name and value - with additional formatting\n",
    "elevation = 4393\n",
    "f\"{elevation = :>10}\""
   ]
  },
  {
   "cell_type": "markdown",
   "metadata": {},
   "source": [
    "## New Module: `importlib.metadata`"
   ]
  },
  {
   "cell_type": "code",
   "execution_count": null,
   "metadata": {},
   "outputs": [],
   "source": [
    "# Get metadata about 'notebook' module - version\n",
    "from importlib.metadata import version, requires, files, metadata\n",
    "version('notebook')"
   ]
  },
  {
   "cell_type": "code",
   "execution_count": null,
   "metadata": {},
   "outputs": [],
   "source": [
    "# Get metadata about 'notebook' module - requires\n",
    "for requirement in list(requires('notebook')):\n",
    "    print(requirement)"
   ]
  },
  {
   "cell_type": "code",
   "execution_count": null,
   "metadata": {},
   "outputs": [],
   "source": [
    "# Get metadata about 'notebook' module - files\n",
    "for file in list(files('notebook'))[:10]:\n",
    "    print(file)"
   ]
  },
  {
   "cell_type": "code",
   "execution_count": null,
   "metadata": {
    "scrolled": false
   },
   "outputs": [],
   "source": [
    "# Get metadata about 'notebook' module - metadata\n",
    "for tag in list(metadata('notebook')):\n",
    "    print(tag)"
   ]
  },
  {
   "cell_type": "code",
   "execution_count": null,
   "metadata": {},
   "outputs": [],
   "source": [
    "# Get metadata about 'notebook' module - metadata\n",
    "metadata('notebook')['Requires-Python']"
   ]
  },
  {
   "cell_type": "markdown",
   "metadata": {},
   "source": [
    "## Improved Module: `typing`"
   ]
  },
  {
   "cell_type": "code",
   "execution_count": null,
   "metadata": {},
   "outputs": [],
   "source": [
    "# Literal types (PEP 586)\n",
    "from typing import Literal\n",
    "def pick_mountain(mountain: Literal['Mansfield', 'Elbert']) -> str:\n",
    "    return mountain\n",
    "\n",
    "pick_mountain('Mansfield')"
   ]
  },
  {
   "cell_type": "code",
   "execution_count": null,
   "metadata": {},
   "outputs": [],
   "source": [
    "# TypedDict (PEP 589)\n",
    "from typing import TypedDict\n",
    "class Mountain(TypedDict):\n",
    "    name: str\n",
    "    elevation: int\n",
    "        \n",
    "mountain: Mountain = {'name': 'Mansfield', 'elevation': 4393}"
   ]
  },
  {
   "cell_type": "code",
   "execution_count": null,
   "metadata": {},
   "outputs": [],
   "source": [
    "# TypedDict\n",
    "Mountain({'name': 'Mansfield', 'elevation': 4393})"
   ]
  },
  {
   "cell_type": "code",
   "execution_count": null,
   "metadata": {},
   "outputs": [],
   "source": [
    "# Final variables, functions, methods, and classes (PEP 591)\n",
    "from typing import Final\n",
    "pi: Final[float] = 3.1415926536\n",
    "pi"
   ]
  },
  {
   "cell_type": "markdown",
   "metadata": {},
   "source": [
    "## Improved Module: `math`"
   ]
  },
  {
   "cell_type": "code",
   "execution_count": null,
   "metadata": {},
   "outputs": [],
   "source": [
    "# Euclidean distance\n",
    "import math\n",
    "math.dist(\n",
    "    (1, 5, 9),\n",
    "    (-2, -6, -10)\n",
    ")"
   ]
  },
  {
   "cell_type": "code",
   "execution_count": null,
   "metadata": {},
   "outputs": [],
   "source": [
    "# Multdimensional Euclidean distance - 2d point\n",
    "math.hypot(\n",
    "    *(3, 4)\n",
    ")"
   ]
  },
  {
   "cell_type": "code",
   "execution_count": null,
   "metadata": {},
   "outputs": [],
   "source": [
    "# Multdimensional Euclidean distance - 3d point\n",
    "math.hypot(\n",
    "    *(3, 4, 5)\n",
    ")"
   ]
  },
  {
   "cell_type": "code",
   "execution_count": null,
   "metadata": {},
   "outputs": [],
   "source": [
    "# Multiply all numbers\n",
    "math.prod((2, 5, 8, 11))"
   ]
  },
  {
   "cell_type": "code",
   "execution_count": null,
   "metadata": {},
   "outputs": [],
   "source": [
    "# Extract integer part of the square root\n",
    "math.isqrt(11)"
   ]
  },
  {
   "cell_type": "markdown",
   "metadata": {},
   "source": [
    "## Improved Module: `statistics`"
   ]
  },
  {
   "cell_type": "code",
   "execution_count": null,
   "metadata": {},
   "outputs": [],
   "source": [
    "# Mean of floats\n",
    "import statistics\n",
    "statistics.fmean([1.2, 5.6, 8.7, 9.2])"
   ]
  },
  {
   "cell_type": "code",
   "execution_count": null,
   "metadata": {},
   "outputs": [],
   "source": [
    "# Geometric mean\n",
    "statistics.geometric_mean([1.2, 5.6, 8.7, 9.2])"
   ]
  },
  {
   "cell_type": "code",
   "execution_count": null,
   "metadata": {},
   "outputs": [],
   "source": [
    "# Most frequently-ocurring\n",
    "statistics.multimode([1, 2, 1, 3, 1, 4, 3, 4, 5, 6, 9, 5, 2, 4])"
   ]
  },
  {
   "cell_type": "code",
   "execution_count": null,
   "metadata": {},
   "outputs": [],
   "source": [
    "# Quantiles\n",
    "statistics.quantiles([1.2, 5.6, 8.7, 9.2, 10, 15, 20], n=4)"
   ]
  }
 ],
 "metadata": {
  "kernelspec": {
   "display_name": "Python 3",
   "language": "python",
   "name": "python3"
  },
  "language_info": {
   "codemirror_mode": {
    "name": "ipython",
    "version": 3
   },
   "file_extension": ".py",
   "mimetype": "text/x-python",
   "name": "python",
   "nbconvert_exporter": "python",
   "pygments_lexer": "ipython3",
   "version": "3.9.0"
  }
 },
 "nbformat": 4,
 "nbformat_minor": 4
}
